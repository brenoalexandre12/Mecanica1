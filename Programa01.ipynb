{
  "nbformat": 4,
  "nbformat_minor": 0,
  "metadata": {
    "colab": {
      "provenance": [],
      "authorship_tag": "ABX9TyP87Zvc/giBNiQwYHyEjH5B",
      "include_colab_link": true
    },
    "kernelspec": {
      "name": "python3",
      "display_name": "Python 3"
    },
    "language_info": {
      "name": "python"
    }
  },
  "cells": [
    {
      "cell_type": "markdown",
      "metadata": {
        "id": "view-in-github",
        "colab_type": "text"
      },
      "source": [
        "<a href=\"https://colab.research.google.com/github/brenoalexandre12/Mecanica1/blob/main/Programa01.ipynb\" target=\"_parent\"><img src=\"https://colab.research.google.com/assets/colab-badge.svg\" alt=\"Open In Colab\"/></a>"
      ]
    },
    {
      "cell_type": "code",
      "source": [],
      "metadata": {
        "id": "1H5I1SdKFDEL"
      },
      "execution_count": null,
      "outputs": []
    },
    {
      "cell_type": "code",
      "source": [
        "num = int(input(\"digite valor inteiro: \"))\n",
        "print(type(num))\n",
        "quoc = num // 2\n",
        "print(type(quoc))\n",
        "print(quoc)\n"
      ],
      "metadata": {
        "id": "5DfAzcSdJO6f",
        "outputId": "40207204-b021-4e0b-a055-1153601204e1",
        "colab": {
          "base_uri": "https://localhost:8080/"
        }
      },
      "execution_count": 10,
      "outputs": [
        {
          "output_type": "stream",
          "name": "stdout",
          "text": [
            "digite valor inteiro: 9\n",
            "<class 'int'>\n",
            "<class 'int'>\n",
            "4\n"
          ]
        }
      ]
    },
    {
      "cell_type": "markdown",
      "source": [
        "MEU PRIMEIRO PROGRAMA\n"
      ],
      "metadata": {
        "id": "MeguLlZyGin9"
      }
    },
    {
      "cell_type": "code",
      "source": [],
      "metadata": {
        "id": "aYf0oPA7GmJ9"
      },
      "execution_count": null,
      "outputs": []
    },
    {
      "cell_type": "code",
      "execution_count": 6,
      "metadata": {
        "id": "jd-Akroa-5uH",
        "outputId": "3e49505a-825e-418e-e060-4ec83a117478",
        "colab": {
          "base_uri": "https://localhost:8080/"
        }
      },
      "outputs": [
        {
          "output_type": "stream",
          "name": "stdout",
          "text": [
            "<class 'int'>\n",
            "<class 'float'>\n",
            "<class 'float'>\n",
            "5.0\n"
          ]
        }
      ],
      "source": [
        "#Importancia dos tipos de variaveis\n",
        "a = 2\n",
        "print(type(a))\n",
        "b = 3.0\n",
        "print(type(b))\n",
        "soma = a + b\n",
        "print(type(soma))\n",
        "print(soma)\n",
        "\n",
        "\n"
      ]
    }
  ]
}