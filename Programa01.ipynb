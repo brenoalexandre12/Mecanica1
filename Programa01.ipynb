{
  "nbformat": 4,
  "nbformat_minor": 0,
  "metadata": {
    "colab": {
      "provenance": [],
      "authorship_tag": "ABX9TyPg/xIayyBZC1/WIasTRnCV",
      "include_colab_link": true
    },
    "kernelspec": {
      "name": "python3",
      "display_name": "Python 3"
    },
    "language_info": {
      "name": "python"
    }
  },
  "cells": [
    {
      "cell_type": "markdown",
      "metadata": {
        "id": "view-in-github",
        "colab_type": "text"
      },
      "source": [
        "<a href=\"https://colab.research.google.com/github/brenoalexandre12/Mecanica1/blob/main/Programa01.ipynb\" target=\"_parent\"><img src=\"https://colab.research.google.com/assets/colab-badge.svg\" alt=\"Open In Colab\"/></a>"
      ]
    },
    {
      "cell_type": "code",
      "source": [],
      "metadata": {
        "id": "1H5I1SdKFDEL"
      },
      "execution_count": null,
      "outputs": []
    },
    {
      "cell_type": "code",
      "source": [
        "num = int(input(\"digite valor inteiro: \"))\n",
        "print(type(num))\n",
        "quoc = num // 2\n",
        "print(type(quoc))\n",
        "print(quoc)\n"
      ],
      "metadata": {
        "id": "5DfAzcSdJO6f",
        "outputId": "40207204-b021-4e0b-a055-1153601204e1",
        "colab": {
          "base_uri": "https://localhost:8080/"
        }
      },
      "execution_count": null,
      "outputs": [
        {
          "output_type": "stream",
          "name": "stdout",
          "text": [
            "digite valor inteiro: 9\n",
            "<class 'int'>\n",
            "<class 'int'>\n",
            "4\n"
          ]
        }
      ]
    },
    {
      "cell_type": "markdown",
      "source": [
        "MEU PRIMEIRO PROGRAMA\n"
      ],
      "metadata": {
        "id": "MeguLlZyGin9"
      }
    },
    {
      "cell_type": "code",
      "source": [
        "v1 = float(input(\"digite valor 1: \"))\n",
        "v2 = float(input(\"digite valor 2: \"))\n",
        "v3 = float(input(\"digite valor 3: \"))\n",
        "soma = v1 + v2 + v3\n",
        "print(soma / 3)"
      ],
      "metadata": {
        "id": "4kefh2mFLXp-",
        "outputId": "78610475-37ee-431f-af28-4b0890cb309c",
        "colab": {
          "base_uri": "https://localhost:8080/"
        }
      },
      "execution_count": 13,
      "outputs": [
        {
          "output_type": "stream",
          "name": "stdout",
          "text": [
            "digite valor 1: 30\n",
            "digite valor 2: 40\n",
            "digite valor 3: 20\n",
            "30.0\n"
          ]
        }
      ]
    },
    {
      "cell_type": "code",
      "source": [
        "base = float(input(\"Digite o valor da base do triângulo: \"))\n",
        "altura = float(input(\"Digite o valor da altura do triângulo: \"))\n",
        "# Calcular a área do triângulo\n",
        "area = (base * altura) / 2\n",
        "# Exibir a área calculada\n",
        "print(f\"A área do triângulo com base {base} e altura {altura} é {area}.\")\n",
        "# Fim do programa\n"
      ],
      "metadata": {
        "id": "QxS4ykFvMhMN",
        "outputId": "72fd5926-268d-4b59-cc53-e4e7ed02ec37",
        "colab": {
          "base_uri": "https://localhost:8080/"
        }
      },
      "execution_count": 14,
      "outputs": [
        {
          "output_type": "stream",
          "name": "stdout",
          "text": [
            "Digite o valor da base do triângulo: 30\n",
            "Digite o valor da altura do triângulo: 20\n",
            "A área do triângulo com base 30.0 e altura 20.0 é 300.0.\n"
          ]
        }
      ]
    },
    {
      "cell_type": "code",
      "source": [],
      "metadata": {
        "id": "aYf0oPA7GmJ9"
      },
      "execution_count": null,
      "outputs": []
    },
    {
      "cell_type": "code",
      "execution_count": null,
      "metadata": {
        "id": "jd-Akroa-5uH",
        "outputId": "3e49505a-825e-418e-e060-4ec83a117478",
        "colab": {
          "base_uri": "https://localhost:8080/"
        }
      },
      "outputs": [
        {
          "output_type": "stream",
          "name": "stdout",
          "text": [
            "<class 'int'>\n",
            "<class 'float'>\n",
            "<class 'float'>\n",
            "5.0\n"
          ]
        }
      ],
      "source": [
        "#Importancia dos tipos de variaveis\n",
        "a = 2\n",
        "print(type(a))\n",
        "b = 3.0\n",
        "print(type(b))\n",
        "soma = a + b\n",
        "print(type(soma))\n",
        "print(soma)\n",
        "\n",
        "\n"
      ]
    }
  ]
}